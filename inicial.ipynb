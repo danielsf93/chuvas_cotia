{
 "cells": [
  {
   "cell_type": "code",
   "execution_count": null,
   "metadata": {},
   "outputs": [],
   "source": [
    "import pandas as pd\n",
    "\n",
    "# Lendo o arquivo CSV com tabulação como separador\n",
    "tabela = pd.read_csv(\"resultados.csv\", delimiter='\\t')\n",
    "\n",
    "# Exibindo a tabela\n",
    "display(tabela)\n"
   ]
  },
  {
   "cell_type": "code",
   "execution_count": null,
   "metadata": {},
   "outputs": [],
   "source": [
    "display(tabela.info())\n",
    "\n",
    "tabela = tabela.dropna()\n",
    "\n",
    "display(tabela.info())"
   ]
  },
  {
   "cell_type": "code",
   "execution_count": null,
   "metadata": {},
   "outputs": [],
   "source": [
    "display(tabela[\"nomeEstacao\"].value_counts())"
   ]
  },
  {
   "cell_type": "code",
   "execution_count": null,
   "metadata": {},
   "outputs": [],
   "source": [
    "display(tabela[\"nomeEstacao\"].value_counts(normalize=True))"
   ]
  },
  {
   "cell_type": "code",
   "execution_count": 44,
   "metadata": {},
   "outputs": [],
   "source": [
    "#import plotly.express as px\n",
    "\n",
    "# criar o grafico\n",
    "\n",
    "#for coluna in tabela.columns:\n",
    " #   grafico = px.histogram(tabela, x=coluna, color=\"valorMedida\")\n",
    "    # exibir o grafico\n",
    "  #  grafico.show()"
   ]
  },
  {
   "cell_type": "code",
   "execution_count": null,
   "metadata": {},
   "outputs": [],
   "source": [
    "import pandas as pd\n",
    "\n",
    "# Lendo o arquivo CSV com tabulação como separador\n",
    "tabela = pd.read_csv(\"resultados.csv\", delimiter='\\t')\n",
    "display(tabela.info())\n",
    "# Exibindo a tabela\n",
    "display(tabela)\n"
   ]
  },
  {
   "cell_type": "code",
   "execution_count": null,
   "metadata": {},
   "outputs": [],
   "source": [
    "# Excluindo as colunas 'municipio', 'uf', 'latitude', 'longitude'\n",
    "#tabela = tabela.drop(['municipio', 'uf', 'latitude', 'longitude', 'codEstacao'], axis=1)\n",
    "# Exibindo a tabela após a exclusão das colunas\n",
    "tabela = tabela.drop(['codEstacao'], axis=1)\n",
    "\n",
    "display(tabela)\n"
   ]
  },
  {
   "cell_type": "code",
   "execution_count": null,
   "metadata": {},
   "outputs": [],
   "source": [
    "import pandas as pd\n",
    "\n",
    "# Lendo o arquivo CSV com tabulação como separador\n",
    "tabela = pd.read_csv(\"resultados.csv\", delimiter='\\t')\n",
    "\n",
    "# Removendo as vírgulas dos valores na coluna 'valorMedida' e convertendo para float\n",
    "tabela['valorMedida'] = tabela['valorMedida'].str.replace(',', '.').astype(float)\n",
    "\n",
    "# Convertendo a coluna 'datahora' para o tipo datetime com o formato adequado\n",
    "tabela['datahora'] = pd.to_datetime(tabela['datahora'], format='%Y-%m-%d %H:%M:%S.%f', errors='coerce')\n",
    "\n",
    "# Removendo as linhas com valores nulos na coluna 'datahora'\n",
    "tabela = tabela.dropna(subset=['datahora'])\n",
    "\n",
    "# Exibindo as informações da tabela\n",
    "display(tabela.info())\n",
    "\n",
    "# Exibindo a tabela\n",
    "display(tabela.head())\n",
    "\n",
    "# Filtrando as entradas onde o nome da estação é \"Monte Catine\"\n",
    "monte_catine_data = tabela[tabela['nomeEstacao'] == 'MonteCatine']\n",
    "\n",
    "# Ordenando os dados pela coluna 'datahora'\n",
    "monte_catine_data = monte_catine_data.sort_values(by='datahora')\n",
    "\n",
    "# Criando o gráfico\n",
    "import plotly.express as px\n",
    "\n",
    "fig = px.line(monte_catine_data, x='datahora', y='valorMedida', title='Medidas em Monte Catine ao Longo do Tempo')\n",
    "fig.update_xaxes(title_text='Data e Hora')\n",
    "fig.update_yaxes(title_text='Valor da Medida')\n",
    "fig.show()\n"
   ]
  },
  {
   "cell_type": "code",
   "execution_count": null,
   "metadata": {},
   "outputs": [],
   "source": [
    "import pandas as pd\n",
    "import plotly.express as px\n",
    "\n",
    "# Lendo o arquivo CSV com tabulação como separador\n",
    "tabela = pd.read_csv(\"resultados.csv\", delimiter='\\t')\n",
    "\n",
    "# Removendo as vírgulas dos valores na coluna 'valorMedida' e convertendo para float\n",
    "tabela['valorMedida'] = tabela['valorMedida'].str.replace(',', '.').astype(float)\n",
    "\n",
    "# Convertendo a coluna 'datahora' para o tipo datetime com o formato adequado\n",
    "tabela['datahora'] = pd.to_datetime(tabela['datahora'], format='%Y-%m-%d %H:%M:%S.%f', errors='coerce')\n",
    "\n",
    "# Removendo as linhas com valores nulos na coluna 'datahora'\n",
    "tabela = tabela.dropna(subset=['datahora'])\n",
    "\n",
    "# Lista com os nomes das estações\n",
    "estacoes = ['JardimAdelina', 'MorroGrande', 'CaucaiadoAlto', 'ParqueMiguelMirizola', 'MonteCatine', 'SantaIsabel', 'Cotia', 'RioCotia']\n",
    "\n",
    "# Loop para criar um gráfico para cada estação\n",
    "for estacao in estacoes:\n",
    "    # Filtrando as entradas para a estação atual\n",
    "    estacao_data = tabela[tabela['nomeEstacao'] == estacao]\n",
    "    \n",
    "    # Ordenando os dados pela coluna 'datahora'\n",
    "    estacao_data = estacao_data.sort_values(by='datahora')\n",
    "    \n",
    "    # Criando o gráfico\n",
    "    fig = px.line(estacao_data, x='datahora', y='valorMedida', title=f'Medidas em {estacao} ao Longo do Tempo')\n",
    "    fig.update_xaxes(title_text='Data e Hora')\n",
    "    fig.update_yaxes(title_text='Valor da Medida')\n",
    "    fig.show()\n"
   ]
  },
  {
   "cell_type": "code",
   "execution_count": null,
   "metadata": {},
   "outputs": [],
   "source": []
  }
 ],
 "metadata": {
  "kernelspec": {
   "display_name": "base",
   "language": "python",
   "name": "python3"
  },
  "language_info": {
   "codemirror_mode": {
    "name": "ipython",
    "version": 3
   },
   "file_extension": ".py",
   "mimetype": "text/x-python",
   "name": "python",
   "nbconvert_exporter": "python",
   "pygments_lexer": "ipython3",
   "version": "3.10.12"
  },
  "orig_nbformat": 4
 },
 "nbformat": 4,
 "nbformat_minor": 2
}
